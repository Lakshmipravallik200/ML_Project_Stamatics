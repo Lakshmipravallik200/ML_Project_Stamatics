{
  "cells": [
    {
      "cell_type": "code",
      "execution_count": null,
      "id": "42f5e68e",
      "metadata": {
        "id": "42f5e68e"
      },
      "outputs": [],
      "source": [
        "import numpy as np"
      ]
    },
    {
      "cell_type": "markdown",
      "id": "2b209b50",
      "metadata": {
        "id": "2b209b50"
      },
      "source": [
        "Q1 Let x = np.arange(4, dtype=np.int64). Create an array of ones with the same shape and type as X."
      ]
    },
    {
      "cell_type": "code",
      "execution_count": null,
      "id": "729dc9cd",
      "metadata": {
        "id": "729dc9cd",
        "outputId": "5d295386-978a-4320-9155-14d864497a41",
        "colab": {
          "base_uri": "https://localhost:8080/"
        }
      },
      "outputs": [
        {
          "output_type": "stream",
          "name": "stdout",
          "text": [
            "[0 1 2 3] [1 1 1 1]\n"
          ]
        }
      ],
      "source": [
        "x = np.arange(4, dtype=np.int64)\n",
        "y = np.ones(np.shape(x), dtype=np.int64)\n",
        "print(x,y)"
      ]
    },
    {
      "cell_type": "markdown",
      "id": "1b9ea803",
      "metadata": {
        "id": "1b9ea803"
      },
      "source": [
        "Q2 Let X = np.array([[1, 2], [3, 4]]). Convert it into a matrix."
      ]
    },
    {
      "cell_type": "code",
      "execution_count": null,
      "id": "23e39b64",
      "metadata": {
        "id": "23e39b64",
        "outputId": "84084f15-8e6c-4fe1-ac1e-517cbe6ebc77",
        "colab": {
          "base_uri": "https://localhost:8080/"
        }
      },
      "outputs": [
        {
          "output_type": "stream",
          "name": "stdout",
          "text": [
            "[[1 2]\n",
            " [3 4]]\n"
          ]
        }
      ],
      "source": [
        "X = np.array([[1, 2], [3, 4]])\n",
        "X= np.matrix(X)\n",
        "print(X)"
      ]
    },
    {
      "cell_type": "markdown",
      "id": "4c1fc004",
      "metadata": {
        "id": "4c1fc004"
      },
      "source": [
        "Q3 Create a 1-D array of 50 evenly spaced elements between 3. and 10., inclusive."
      ]
    },
    {
      "cell_type": "code",
      "execution_count": null,
      "id": "9f0a47db",
      "metadata": {
        "id": "9f0a47db",
        "outputId": "d4080c40-625e-4827-bd6e-c725f80e8dd7",
        "colab": {
          "base_uri": "https://localhost:8080/"
        }
      },
      "outputs": [
        {
          "output_type": "stream",
          "name": "stdout",
          "text": [
            "[3.   3.14 3.28 3.42 3.56 3.7  3.84 3.98 4.12 4.26 4.4  4.54 4.68 4.82\n",
            " 4.96 5.1  5.24 5.38 5.52 5.66 5.8  5.94 6.08 6.22 6.36 6.5  6.64 6.78\n",
            " 6.92 7.06 7.2  7.34 7.48 7.62 7.76 7.9  8.04 8.18 8.32 8.46 8.6  8.74\n",
            " 8.88 9.02 9.16 9.3  9.44 9.58 9.72 9.86]\n"
          ]
        }
      ],
      "source": [
        "X=np.arange(3,10,0.14,dtype=float)\n",
        "print(X)"
      ]
    },
    {
      "cell_type": "markdown",
      "id": "0289d659",
      "metadata": {
        "id": "0289d659"
      },
      "source": [
        "Q4 Let x be array [[1, 2, 3], [4, 5, 6]]. Convert it to [1 4 2 5 3 6]."
      ]
    },
    {
      "cell_type": "code",
      "execution_count": null,
      "id": "f8435bca",
      "metadata": {
        "id": "f8435bca",
        "outputId": "15e84787-8d6e-40f1-fdee-66af3b590653",
        "colab": {
          "base_uri": "https://localhost:8080/"
        }
      },
      "outputs": [
        {
          "output_type": "stream",
          "name": "stdout",
          "text": [
            "[1 4 2 5 3 6]\n"
          ]
        }
      ],
      "source": [
        "X= ([[1,2,3],[4,5,6]])\n",
        "X=np.dstack(X).ravel()\n",
        "print(X)"
      ]
    },
    {
      "cell_type": "markdown",
      "id": "71988acd",
      "metadata": {
        "id": "71988acd"
      },
      "source": [
        "Q5 Let x be an array [1, 2, 3, ..., 9]. Split x into 3 arrays, each of which has 4, 2, and 3 elements in the original order."
      ]
    },
    {
      "cell_type": "code",
      "execution_count": null,
      "id": "9425a232",
      "metadata": {
        "id": "9425a232",
        "outputId": "158e5b3c-726a-4240-d3f6-5b73879894a0",
        "colab": {
          "base_uri": "https://localhost:8080/"
        }
      },
      "outputs": [
        {
          "output_type": "stream",
          "name": "stdout",
          "text": [
            "[array([[1],\n",
            "       [4],\n",
            "       [7]]), array([[2],\n",
            "       [5],\n",
            "       [8]]), array([[3],\n",
            "       [6],\n",
            "       [9]])]\n"
          ]
        }
      ],
      "source": [
        "x=np.arange(1,10,1,dtype=int).reshape(3,3)\n",
        "x=(np.hsplit(x,3))\n",
        "print(x)"
      ]
    },
    {
      "cell_type": "markdown",
      "id": "6aecae8c",
      "metadata": {
        "id": "6aecae8c"
      },
      "source": [
        " Q6 Compute the inverse and primary diagnol sum of x=[[1,2],[3,4]]"
      ]
    },
    {
      "cell_type": "code",
      "execution_count": null,
      "id": "3d79a142",
      "metadata": {
        "id": "3d79a142",
        "outputId": "bb390c6b-9da7-40eb-c916-4a35cf9260ef",
        "colab": {
          "base_uri": "https://localhost:8080/"
        }
      },
      "outputs": [
        {
          "output_type": "stream",
          "name": "stdout",
          "text": [
            "5\n",
            "[[-2.   1. ]\n",
            " [ 1.5 -0.5]]\n"
          ]
        }
      ],
      "source": [
        "x=[[1,2],[3,4]]\n",
        "s=np.trace(x)\n",
        "print(s)\n",
        "y = np.linalg.inv(x)\n",
        "print(y)"
      ]
    },
    {
      "cell_type": "markdown",
      "id": "9f088694",
      "metadata": {
        "id": "9f088694"
      },
      "source": [
        "Q7 Sort x along the second axis. x = [[1,4],[3,1]]"
      ]
    },
    {
      "cell_type": "code",
      "execution_count": null,
      "id": "40099735",
      "metadata": {
        "id": "40099735",
        "outputId": "a53f2c1a-3d62-4161-a533-6fa5549d8716",
        "colab": {
          "base_uri": "https://localhost:8080/"
        }
      },
      "outputs": [
        {
          "output_type": "stream",
          "name": "stdout",
          "text": [
            "[[1 4]\n",
            " [1 3]]\n"
          ]
        }
      ],
      "source": [
        "x=np.array([[1,4], [3,1]])\n",
        "x.sort(axis=1)\n",
        "print(x)\n"
      ]
    },
    {
      "cell_type": "markdown",
      "id": "51cc1a71",
      "metadata": {
        "id": "51cc1a71"
      },
      "source": [
        "Q8 Get the indices that would sort x(as above) along the second axis."
      ]
    },
    {
      "cell_type": "code",
      "execution_count": null,
      "id": "f314f2b6",
      "metadata": {
        "id": "f314f2b6",
        "outputId": "89262d1a-c62b-4569-f7f6-8ef713b3f4ee",
        "colab": {
          "base_uri": "https://localhost:8080/"
        }
      },
      "outputs": [
        {
          "output_type": "stream",
          "name": "stdout",
          "text": [
            "[[0 1]\n",
            " [1 0]]\n"
          ]
        }
      ],
      "source": [
        "x=np.array([[1,4], [3,1]])\n",
        "print(np.argsort(x,axis=1))"
      ]
    },
    {
      "cell_type": "markdown",
      "id": "1cf5455c",
      "metadata": {
        "id": "1cf5455c"
      },
      "source": [
        "Initiate x as a 2x5 array with random values from 0 to 10(not inclusive).Get the maximum and minimum values and their indices of x along the second axis."
      ]
    },
    {
      "cell_type": "code",
      "execution_count": null,
      "id": "4c9518c5",
      "metadata": {
        "id": "4c9518c5",
        "outputId": "23fef1aa-438b-4c2f-fc35-6c121e8f41b2",
        "colab": {
          "base_uri": "https://localhost:8080/"
        }
      },
      "outputs": [
        {
          "output_type": "stream",
          "name": "stdout",
          "text": [
            "[[5 2 5 4 2]\n",
            " [2 4 8 6 2]]\n",
            "7 1\n"
          ]
        }
      ],
      "source": [
        "import random\n",
        "x=np.array(random.choices(range(0,10),k=10)).reshape(2,5)\n",
        "print(x)\n",
        "xmin,xmax=x.min(),x.max()\n",
        "print(np.argmax(x),np.argmin(x))\n"
      ]
    },
    {
      "cell_type": "markdown",
      "id": "d4c46002",
      "metadata": {
        "id": "d4c46002"
      },
      "source": [
        "Run the following load command to get the 2-Dim iris dataset. Do the following operations on it."
      ]
    },
    {
      "cell_type": "code",
      "execution_count": null,
      "id": "6d70b524",
      "metadata": {
        "id": "6d70b524"
      },
      "outputs": [],
      "source": [
        "url = 'https://archive.ics.uci.edu/ml/machine-learning-databases/iris/iris.data'\n",
        "iris_2d = np.genfromtxt(url, delimiter=',', dtype='float', usecols=[0,1,2,3])"
      ]
    },
    {
      "cell_type": "markdown",
      "id": "09bd05b0",
      "metadata": {
        "id": "09bd05b0"
      },
      "source": [
        "Drop rows that contain a missing value. "
      ]
    },
    {
      "cell_type": "code",
      "execution_count": null,
      "id": "ffd754b3",
      "metadata": {
        "id": "ffd754b3",
        "colab": {
          "base_uri": "https://localhost:8080/"
        },
        "outputId": "40c4de9b-1638-4ebe-c426-60d947704db5"
      },
      "outputs": [
        {
          "output_type": "stream",
          "name": "stdout",
          "text": [
            "[[5.1 3.5 1.4 0.2]\n",
            " [4.9 3.  1.4 0.2]\n",
            " [4.7 3.2 1.3 0.2]\n",
            " [4.6 3.1 1.5 0.2]\n",
            " [5.  3.6 1.4 0.2]\n",
            " [5.4 3.9 1.7 0.4]\n",
            " [4.6 3.4 1.4 0.3]\n",
            " [5.  3.4 1.5 0.2]\n",
            " [4.4 2.9 1.4 0.2]\n",
            " [4.9 3.1 1.5 0.1]\n",
            " [5.4 3.7 1.5 0.2]\n",
            " [4.8 3.4 1.6 0.2]\n",
            " [4.8 3.  1.4 0.1]\n",
            " [4.3 3.  1.1 0.1]\n",
            " [5.8 4.  1.2 0.2]\n",
            " [5.7 4.4 1.5 0.4]\n",
            " [5.4 3.9 1.3 0.4]\n",
            " [5.1 3.5 1.4 0.3]\n",
            " [5.7 3.8 1.7 0.3]\n",
            " [5.1 3.8 1.5 0.3]\n",
            " [5.4 3.4 1.7 0.2]\n",
            " [5.1 3.7 1.5 0.4]\n",
            " [4.6 3.6 1.  0.2]\n",
            " [5.1 3.3 1.7 0.5]\n",
            " [4.8 3.4 1.9 0.2]\n",
            " [5.  3.  1.6 0.2]\n",
            " [5.  3.4 1.6 0.4]\n",
            " [5.2 3.5 1.5 0.2]\n",
            " [5.2 3.4 1.4 0.2]\n",
            " [4.7 3.2 1.6 0.2]\n",
            " [4.8 3.1 1.6 0.2]\n",
            " [5.4 3.4 1.5 0.4]\n",
            " [5.2 4.1 1.5 0.1]\n",
            " [5.5 4.2 1.4 0.2]\n",
            " [4.9 3.1 1.5 0.1]\n",
            " [5.  3.2 1.2 0.2]\n",
            " [5.5 3.5 1.3 0.2]\n",
            " [4.9 3.1 1.5 0.1]\n",
            " [4.4 3.  1.3 0.2]\n",
            " [5.1 3.4 1.5 0.2]\n",
            " [5.  3.5 1.3 0.3]\n",
            " [4.5 2.3 1.3 0.3]\n",
            " [4.4 3.2 1.3 0.2]\n",
            " [5.  3.5 1.6 0.6]\n",
            " [5.1 3.8 1.9 0.4]\n",
            " [4.8 3.  1.4 0.3]\n",
            " [5.1 3.8 1.6 0.2]\n",
            " [4.6 3.2 1.4 0.2]\n",
            " [5.3 3.7 1.5 0.2]\n",
            " [5.  3.3 1.4 0.2]\n",
            " [7.  3.2 4.7 1.4]\n",
            " [6.4 3.2 4.5 1.5]\n",
            " [6.9 3.1 4.9 1.5]\n",
            " [5.5 2.3 4.  1.3]\n",
            " [6.5 2.8 4.6 1.5]\n",
            " [5.7 2.8 4.5 1.3]\n",
            " [6.3 3.3 4.7 1.6]\n",
            " [4.9 2.4 3.3 1. ]\n",
            " [6.6 2.9 4.6 1.3]\n",
            " [5.2 2.7 3.9 1.4]\n",
            " [5.  2.  3.5 1. ]\n",
            " [5.9 3.  4.2 1.5]\n",
            " [6.  2.2 4.  1. ]\n",
            " [6.1 2.9 4.7 1.4]\n",
            " [5.6 2.9 3.6 1.3]\n",
            " [6.7 3.1 4.4 1.4]\n",
            " [5.6 3.  4.5 1.5]\n",
            " [5.8 2.7 4.1 1. ]\n",
            " [6.2 2.2 4.5 1.5]\n",
            " [5.6 2.5 3.9 1.1]\n",
            " [5.9 3.2 4.8 1.8]\n",
            " [6.1 2.8 4.  1.3]\n",
            " [6.3 2.5 4.9 1.5]\n",
            " [6.1 2.8 4.7 1.2]\n",
            " [6.4 2.9 4.3 1.3]\n",
            " [6.6 3.  4.4 1.4]\n",
            " [6.8 2.8 4.8 1.4]\n",
            " [6.7 3.  5.  1.7]\n",
            " [6.  2.9 4.5 1.5]\n",
            " [5.7 2.6 3.5 1. ]\n",
            " [5.5 2.4 3.8 1.1]\n",
            " [5.5 2.4 3.7 1. ]\n",
            " [5.8 2.7 3.9 1.2]\n",
            " [6.  2.7 5.1 1.6]\n",
            " [5.4 3.  4.5 1.5]\n",
            " [6.  3.4 4.5 1.6]\n",
            " [6.7 3.1 4.7 1.5]\n",
            " [6.3 2.3 4.4 1.3]\n",
            " [5.6 3.  4.1 1.3]\n",
            " [5.5 2.5 4.  1.3]\n",
            " [5.5 2.6 4.4 1.2]\n",
            " [6.1 3.  4.6 1.4]\n",
            " [5.8 2.6 4.  1.2]\n",
            " [5.  2.3 3.3 1. ]\n",
            " [5.6 2.7 4.2 1.3]\n",
            " [5.7 3.  4.2 1.2]\n",
            " [5.7 2.9 4.2 1.3]\n",
            " [6.2 2.9 4.3 1.3]\n",
            " [5.1 2.5 3.  1.1]\n",
            " [5.7 2.8 4.1 1.3]\n",
            " [6.3 3.3 6.  2.5]\n",
            " [5.8 2.7 5.1 1.9]\n",
            " [7.1 3.  5.9 2.1]\n",
            " [6.3 2.9 5.6 1.8]\n",
            " [6.5 3.  5.8 2.2]\n",
            " [7.6 3.  6.6 2.1]\n",
            " [4.9 2.5 4.5 1.7]\n",
            " [7.3 2.9 6.3 1.8]\n",
            " [6.7 2.5 5.8 1.8]\n",
            " [7.2 3.6 6.1 2.5]\n",
            " [6.5 3.2 5.1 2. ]\n",
            " [6.4 2.7 5.3 1.9]\n",
            " [6.8 3.  5.5 2.1]\n",
            " [5.7 2.5 5.  2. ]\n",
            " [5.8 2.8 5.1 2.4]\n",
            " [6.4 3.2 5.3 2.3]\n",
            " [6.5 3.  5.5 1.8]\n",
            " [7.7 3.8 6.7 2.2]\n",
            " [7.7 2.6 6.9 2.3]\n",
            " [6.  2.2 5.  1.5]\n",
            " [6.9 3.2 5.7 2.3]\n",
            " [5.6 2.8 4.9 2. ]\n",
            " [7.7 2.8 6.7 2. ]\n",
            " [6.3 2.7 4.9 1.8]\n",
            " [6.7 3.3 5.7 2.1]\n",
            " [7.2 3.2 6.  1.8]\n",
            " [6.2 2.8 4.8 1.8]\n",
            " [6.1 3.  4.9 1.8]\n",
            " [6.4 2.8 5.6 2.1]\n",
            " [7.2 3.  5.8 1.6]\n",
            " [7.4 2.8 6.1 1.9]\n",
            " [7.9 3.8 6.4 2. ]\n",
            " [6.4 2.8 5.6 2.2]\n",
            " [6.3 2.8 5.1 1.5]\n",
            " [6.1 2.6 5.6 1.4]\n",
            " [7.7 3.  6.1 2.3]\n",
            " [6.3 3.4 5.6 2.4]\n",
            " [6.4 3.1 5.5 1.8]\n",
            " [6.  3.  4.8 1.8]\n",
            " [6.9 3.1 5.4 2.1]\n",
            " [6.7 3.1 5.6 2.4]\n",
            " [6.9 3.1 5.1 2.3]\n",
            " [5.8 2.7 5.1 1.9]\n",
            " [6.8 3.2 5.9 2.3]\n",
            " [6.7 3.3 5.7 2.5]\n",
            " [6.7 3.  5.2 2.3]\n",
            " [6.3 2.5 5.  1.9]\n",
            " [6.5 3.  5.2 2. ]\n",
            " [6.2 3.4 5.4 2.3]\n",
            " [5.9 3.  5.1 1.8]]\n"
          ]
        }
      ],
      "source": [
        "print(iris_2d[~np.isnan(iris_2d).any(axis=1), :])"
      ]
    },
    {
      "cell_type": "markdown",
      "id": "8cbd9fb3",
      "metadata": {
        "id": "8cbd9fb3"
      },
      "source": [
        "Find the correlation between first two columns."
      ]
    },
    {
      "cell_type": "code",
      "execution_count": null,
      "id": "e3ef5a77",
      "metadata": {
        "id": "e3ef5a77",
        "colab": {
          "base_uri": "https://localhost:8080/"
        },
        "outputId": "af35db49-246f-4484-e9b4-a79b37083bee"
      },
      "outputs": [
        {
          "output_type": "execute_result",
          "data": {
            "text/plain": [
              "-0.10936924995064937"
            ]
          },
          "metadata": {},
          "execution_count": 26
        }
      ],
      "source": [
        "np.corrcoef(iris_2d[:, 0], iris_2d[:, 1])[0,1]"
      ]
    },
    {
      "cell_type": "markdown",
      "id": "73965a4a",
      "metadata": {
        "id": "73965a4a"
      },
      "source": [
        "Find the mean,median and standard deviation of column 3."
      ]
    },
    {
      "cell_type": "code",
      "execution_count": null,
      "id": "ab824597",
      "metadata": {
        "id": "ab824597",
        "colab": {
          "base_uri": "https://localhost:8080/"
        },
        "outputId": "5a63b1c6-2931-4c6e-e5f5-44a2e258998f"
      },
      "outputs": [
        {
          "output_type": "stream",
          "name": "stdout",
          "text": [
            "2.35 2.25 1.73\n"
          ]
        }
      ],
      "source": [
        "print(np.average(iris_2d[2]),np.median(iris_2d[2]),round(np.std(iris_2d[2]),2))"
      ]
    },
    {
      "cell_type": "markdown",
      "id": "14e0308e",
      "metadata": {
        "id": "14e0308e"
      },
      "source": [
        "Create a new column for volume in iris_2d, where volume is (pi x petallength x sepal_length^2)/3"
      ]
    },
    {
      "cell_type": "code",
      "execution_count": null,
      "id": "91c944c3",
      "metadata": {
        "id": "91c944c3",
        "colab": {
          "base_uri": "https://localhost:8080/"
        },
        "outputId": "f10a8527-c1e9-4fce-e7c8-f83ba6deafe2"
      },
      "outputs": [
        {
          "output_type": "stream",
          "name": "stdout",
          "text": [
            "[[  5.1          3.5          1.4          0.2         38.13265163]\n",
            " [  4.9          3.           1.4          0.2         35.20049849]\n",
            " [  4.7          3.2          1.3          0.2         30.07237208]\n",
            " [  4.6          3.1          1.5          0.2         33.23805027]\n",
            " [  5.           3.6          1.4          0.2         36.65191429]\n",
            " [  5.4          3.9          1.7          0.4         51.91167701]\n",
            " [  4.6          3.4          1.4          0.3         31.02218026]\n",
            " [  5.           3.4          1.5          0.2         39.26990817]\n",
            " [  4.4          2.9          1.4          0.2         28.38324243]\n",
            " [  4.9          3.1          1.5          0.1         37.71481981]\n",
            " [  5.4          3.7          1.5          0.2         45.80442089]\n",
            " [  4.8          3.4          1.6          0.2         38.60389053]\n",
            " [  4.8          3.           1.4          0.1         33.77840421]\n",
            " [  4.3          3.           1.1          0.1         21.29895099]\n",
            " [  5.8          4.           1.2          0.2         42.27327075]\n",
            " [  5.7          4.4          1.5          0.4         51.03517266]\n",
            " [  5.4          3.9          1.3          0.4         39.69716477]\n",
            " [  5.1          3.5          1.4          0.3         38.13265163]\n",
            " [  5.7          3.8          1.7          0.3         57.83986235]\n",
            " [  5.1          3.8          1.5          0.3         40.85641246]\n",
            " [  5.4          3.4          1.7          0.2         51.91167701]\n",
            " [  5.1          3.7          1.5          0.4         40.85641246]\n",
            " [  4.6          3.6          1.           0.2         22.15870018]\n",
            " [  5.1          3.3          1.7          0.5         46.30393412]\n",
            " [  4.8          3.4          1.9          0.2         45.84212   ]\n",
            " [  5.           3.           1.6          0.2         41.88790205]\n",
            " [  5.           3.4          1.6          0.4         41.88790205]\n",
            " [  5.2          3.5          1.5          0.2         42.47433268]\n",
            " [  5.2          3.4          1.4          0.2         39.6427105 ]\n",
            " [  4.7          3.2          1.6          0.2         37.01215025]\n",
            " [  4.8          3.1          1.6          0.2         38.60389053]\n",
            " [  5.4          3.4          1.5          0.4         45.80442089]\n",
            " [  5.2          4.1          1.5          0.1         42.47433268]\n",
            " [  5.5          4.2          1.4          0.2         44.34881629]\n",
            " [  4.9          3.1          1.5          0.1         37.71481981]\n",
            " [  5.           3.2          1.2          0.2         31.41592654]\n",
            " [  5.5          3.5          1.3          0.2         41.1810437 ]\n",
            " [  4.9          3.1          1.5          0.1         37.71481981]\n",
            " [  4.4          3.           1.3          0.2         26.35586797]\n",
            " [  5.1          3.4          1.5          0.2         40.85641246]\n",
            " [  5.           3.5          1.3          0.3         34.03392041]\n",
            " [  4.5          2.3          1.3          0.3         27.56747554]\n",
            " [  4.4          3.2          1.3          0.2         26.35586797]\n",
            " [  5.           3.5          1.6          0.6         41.88790205]\n",
            " [  5.1          3.8          1.9          0.4         51.75145578]\n",
            " [  4.8          3.           1.4          0.3         33.77840421]\n",
            " [  5.1          3.8          1.6          0.2         43.58017329]\n",
            " [  4.6          3.2          1.4          0.2         31.02218026]\n",
            " [  5.3          3.7          1.5          0.2         44.12366882]\n",
            " [  5.           3.3          1.4          0.2         36.65191429]\n",
            " [  7.           3.2          4.7          1.4        241.16959604]\n",
            " [  6.4          3.2          4.5          1.5        193.01945264]\n",
            " [  6.9          3.1          4.9          1.5        244.29966952]\n",
            " [  5.5          2.3          4.           1.3        126.71090369]\n",
            " [  6.5          2.8          4.6          1.5        203.52284408]\n",
            " [  5.7          2.8          4.5          1.3        153.10551797]\n",
            " [  6.3          3.3          4.7          1.6        195.34737279]\n",
            " [  4.9          2.4          3.3          1.          82.97260357]\n",
            " [  6.6          2.9          4.6          1.3        209.83325652]\n",
            " [  5.2          2.7          3.9          1.4        110.43326496]\n",
            " [  5.           2.           3.5          1.          91.62978573]\n",
            " [  5.9          3.           4.2          1.5        153.10237638]\n",
            " [  6.           2.2          4.           1.         150.79644737]\n",
            " [  6.1          2.9          4.7          1.4        183.14123814]\n",
            " [  5.6          2.9          3.6          1.3        118.22441474]\n",
            " [  6.7          3.1          4.4          1.4        206.83827152]\n",
            " [  5.6          3.           4.5          1.5        147.78051842]\n",
            " [  5.8          2.7          4.1          1.         144.43367505]\n",
            " [  6.2          2.2          4.5          1.5        181.14423241]\n",
            " [  5.6          2.5          3.9          1.1        128.0764493 ]\n",
            " [  5.9          3.2          4.8          1.8        174.97414443]\n",
            " [  6.1          2.8          4.           1.3        155.86488352]\n",
            " [  6.3          2.5          4.9          1.5        203.66002695]\n",
            " [  6.1          2.8          4.7          1.2        183.14123814]\n",
            " [  6.4          2.9          4.3          1.3        184.4408103 ]\n",
            " [  6.6          3.           4.4          1.4        200.71007145]\n",
            " [  6.8          2.8          4.8          1.4        232.42759088]\n",
            " [  6.7          3.           5.           1.7        235.04349037]\n",
            " [  6.           2.9          4.5          1.5        169.64600329]\n",
            " [  5.7          2.6          3.5          1.         119.08206953]\n",
            " [  5.5          2.4          3.8          1.1        120.37535851]\n",
            " [  5.5          2.4          3.7          1.         117.20758592]\n",
            " [  5.8          2.7          3.9          1.2        137.38812993]\n",
            " [  6.           2.7          5.1          1.6        192.2654704 ]\n",
            " [  5.4          3.           4.5          1.5        137.41326267]\n",
            " [  6.           3.4          4.5          1.6        169.64600329]\n",
            " [  6.7          3.1          4.7          1.5        220.94088094]\n",
            " [  6.3          2.3          4.4          1.3        182.87839155]\n",
            " [  5.6          3.           4.1          1.3        134.64447234]\n",
            " [  5.5          2.5          4.           1.3        126.71090369]\n",
            " [  5.5          2.6          4.4          1.2        139.38199406]\n",
            " [  6.1          3.           4.6          1.4        179.24461605]\n",
            " [  5.8          2.6          4.           1.2        140.91090249]\n",
            " [  5.           2.3          3.3          1.          86.39379797]\n",
            " [  5.6          2.7          4.2          1.3        137.92848386]\n",
            " [  5.7          3.           4.2          1.2        142.89848344]\n",
            " [  5.7          2.9          4.2          1.3        142.89848344]\n",
            " [  6.2          2.9          4.3          1.3        173.09337763]\n",
            " [  5.1          2.5          3.           1.1         81.71282492]\n",
            " [  5.7          2.8          4.1          1.3        139.4961386 ]\n",
            " [  6.3          3.3          6.           2.5        249.37962484]\n",
            " [  5.8          2.7          5.1          1.9        179.66140067]\n",
            " [  7.1          3.           5.9          2.1        311.45644848]\n",
            " [  6.3          2.9          5.6          1.8        232.75431652]\n",
            " [  6.5          3.           5.8          2.2        256.61575992]\n",
            " [  7.6          3.           6.6          2.1        399.20846168]\n",
            " [  4.9          2.5          4.5          1.7        113.14445942]\n",
            " [  7.3          2.9          6.3          1.8        351.57249227]\n",
            " [  6.7          2.5          5.8          1.8        272.65044882]\n",
            " [  7.2          3.6          6.1          2.5        331.14899843]\n",
            " [  6.5          3.2          5.1          2.         225.64489234]\n",
            " [  6.4          2.7          5.3          1.9        227.33402199]\n",
            " [  6.8          3.           5.5          2.1        266.32328122]\n",
            " [  5.7          2.5          5.           2.         170.11724219]\n",
            " [  5.8          2.8          5.1          2.4        179.66140067]\n",
            " [  6.4          3.2          5.3          2.3        227.33402199]\n",
            " [  6.5          3.           5.5          1.8        243.34253096]\n",
            " [  7.7          3.8          6.7          2.2        415.99189683]\n",
            " [  7.7          2.6          6.9          2.3        428.40956539]\n",
            " [  6.           2.2          5.           1.5        188.49555922]\n",
            " [  6.9          3.2          5.7          2.3        284.18532985]\n",
            " [  5.6          2.8          4.9          2.         160.91656451]\n",
            " [  7.7          2.8          6.7          2.         415.99189683]\n",
            " [  6.3          2.7          4.9          1.8        203.66002695]\n",
            " [  6.7          3.3          5.7          2.1        267.94957902]\n",
            " [  7.2          3.2          6.           1.8        325.72032632]\n",
            " [  6.2          2.8          4.8          1.8        193.22051457]\n",
            " [  6.1          3.           4.9          1.8        190.93448231]\n",
            " [  6.4          2.8          5.6          2.1        240.2019855 ]\n",
            " [  7.2          3.           5.8          1.6        314.86298211]\n",
            " [  7.4          2.8          6.1          1.9        349.80168121]\n",
            " [  7.9          3.8          6.4          2.         418.27583469]\n",
            " [  6.4          2.8          5.6          2.2        240.2019855 ]\n",
            " [  6.3          2.8          5.1          1.5        211.97268112]\n",
            " [  6.1          2.6          5.6          1.4        218.21083693]\n",
            " [  7.7          3.           6.1          2.3        378.73889114]\n",
            " [  6.3          3.4          5.6          2.4        232.75431652]\n",
            " [  6.4          3.1          5.5          1.8        235.91266433]\n",
            " [  6.           3.           4.8          1.8        180.95573685]\n",
            " [  6.9          3.1          5.4          2.1        269.22820723]\n",
            " [  6.7          3.1          5.6          2.4        263.24870921]\n",
            " [  6.9          3.1          5.1          2.3        254.2710846 ]\n",
            " [  5.8          2.7          5.1          1.9        179.66140067]\n",
            " [  6.8          3.2          5.9          2.3        285.69224713]\n",
            " [  6.7          3.3          5.7          2.5        267.94957902]\n",
            " [  6.7          3.           5.2          2.3        244.44522998]\n",
            " [  6.3          2.5          5.           1.9        207.81635403]\n",
            " [  6.5          3.           5.2          2.         230.069302  ]\n",
            " [  6.2          3.4          5.4          2.3        217.37307889]\n",
            " [  5.9          3.           5.1          1.8        185.91002846]]\n"
          ]
        }
      ],
      "source": [
        "volume=(np.pi*iris_2d[:,2]*iris_2d[:,0]*iris_2d[:,0]/3)\n",
        "volume = volume[:, np.newaxis]\n",
        "iris_2d=np.hstack([iris_2d, volume])\n",
        "print(iris_2d)"
      ]
    },
    {
      "cell_type": "markdown",
      "id": "b7c1758f",
      "metadata": {
        "id": "b7c1758f"
      },
      "source": [
        "Run the following loaad command and solve the following questions"
      ]
    },
    {
      "cell_type": "code",
      "execution_count": null,
      "id": "b3fae8a7",
      "metadata": {
        "id": "b3fae8a7"
      },
      "outputs": [],
      "source": [
        "url = 'https://archive.ics.uci.edu/ml/machine-learning-databases/iris/iris.data'\n",
        "iris = np.genfromtxt(url, delimiter=',', dtype='object')\n",
        "names = ('sepallength', 'sepalwidth', 'petallength', 'petalwidth', 'species')"
      ]
    },
    {
      "cell_type": "markdown",
      "id": "4ee21e50",
      "metadata": {
        "id": "4ee21e50"
      },
      "source": [
        "Find the count of unique species."
      ]
    },
    {
      "cell_type": "code",
      "execution_count": null,
      "id": "730ad758",
      "metadata": {
        "id": "730ad758",
        "colab": {
          "base_uri": "https://localhost:8080/"
        },
        "outputId": "cc28ce34-eca9-44e7-a3f8-753b7fcbbda8"
      },
      "outputs": [
        {
          "output_type": "stream",
          "name": "stdout",
          "text": [
            "(array([b'Iris-setosa', b'Iris-versicolor', b'Iris-virginica'],\n",
            "      dtype=object), array([50, 50, 50]))\n"
          ]
        }
      ],
      "source": [
        "print(np.unique(np.array(iris[:,4]),return_counts=True))"
      ]
    },
    {
      "cell_type": "markdown",
      "id": "6d054b10",
      "metadata": {
        "id": "6d054b10"
      },
      "source": [
        "Bin the petal length (3rd) column of iris_2d to form a text array, such that if petal length is:\n",
        "Less than 3 –> ‘small’\n",
        "3-5 –> ‘medium’\n",
        "‘>=5 –> ‘large’"
      ]
    },
    {
      "cell_type": "code",
      "execution_count": null,
      "id": "5be1b28a",
      "metadata": {
        "scrolled": false,
        "id": "5be1b28a",
        "colab": {
          "base_uri": "https://localhost:8080/"
        },
        "outputId": "0c46cd54-560f-4895-9d71-69c812cf4af9"
      },
      "outputs": [
        {
          "output_type": "stream",
          "name": "stdout",
          "text": [
            "['small', 'small', 'small', 'small', 'small', 'small', 'small', 'small', 'small', 'small', 'small', 'small', 'small', 'small', 'small', 'small', 'small', 'small', 'small', 'small', 'small', 'small', 'small', 'small', 'small', 'small', 'small', 'small', 'small', 'small', 'small', 'small', 'small', 'small', 'small', 'small', 'small', 'small', 'small', 'small', 'small', 'small', 'small', 'small', 'small', 'small', 'small', 'small', 'small', 'small', 'medium', 'medium', 'medium', 'medium', 'medium', 'medium', 'medium', 'medium', 'medium', 'medium', 'medium', 'medium', 'medium', 'medium', 'medium', 'medium', 'medium', 'medium', 'medium', 'medium', 'medium', 'medium', 'medium', 'medium', 'medium', 'medium', 'medium', 'large', 'medium', 'medium', 'medium', 'medium', 'medium', 'large', 'medium', 'medium', 'medium', 'medium', 'medium', 'medium', 'medium', 'medium', 'medium', 'medium', 'medium', 'medium', 'medium', 'medium', 'medium', 'medium', 'large', 'large', 'large', 'large', 'large', 'large', 'medium', 'large', 'large', 'large', 'large', 'large', 'large', 'large', 'large', 'large', 'large', 'large', 'large', 'large', 'large', 'medium', 'large', 'medium', 'large', 'large', 'medium', 'medium', 'large', 'large', 'large', 'large', 'large', 'large', 'large', 'large', 'large', 'large', 'medium', 'large', 'large', 'large', 'large', 'large', 'large', 'large', 'large', 'large', 'large', 'large']\n"
          ]
        }
      ],
      "source": [
        "bin = np.digitize(iris[:, 2].astype('float'), [0, 3, 5])\n",
        "label_map = {1: 'small', 2: 'medium', 3: 'large'}\n",
        "cat = [label_map[x] for x in bin]\n",
        "print(cat)"
      ]
    },
    {
      "cell_type": "markdown",
      "id": "87b2ddd8",
      "metadata": {
        "id": "87b2ddd8"
      },
      "source": [
        "Find the most frequent value of petal length (3rd column) in iris dataset"
      ]
    },
    {
      "cell_type": "code",
      "execution_count": null,
      "id": "bb79857d",
      "metadata": {
        "id": "bb79857d",
        "colab": {
          "base_uri": "https://localhost:8080/"
        },
        "outputId": "154514c8-afd3-442e-b99a-6c98695195b1"
      },
      "outputs": [
        {
          "output_type": "stream",
          "name": "stdout",
          "text": [
            "b'1.5'\n"
          ]
        }
      ],
      "source": [
        "unique, counts = np.unique(np.array(iris[:,2]), return_counts=True)\n",
        "print(unique[counts.argmax()])"
      ]
    }
  ],
  "metadata": {
    "kernelspec": {
      "display_name": "Python 3 (ipykernel)",
      "language": "python",
      "name": "python3"
    },
    "language_info": {
      "codemirror_mode": {
        "name": "ipython",
        "version": 3
      },
      "file_extension": ".py",
      "mimetype": "text/x-python",
      "name": "python",
      "nbconvert_exporter": "python",
      "pygments_lexer": "ipython3",
      "version": "3.8.10"
    },
    "colab": {
      "name": "Copy of Copy of ML_Assignment_1_NumPy.ipynb",
      "provenance": [],
      "collapsed_sections": []
    }
  },
  "nbformat": 4,
  "nbformat_minor": 5
}